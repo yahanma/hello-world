{
 "cells": [
  {
   "cell_type": "markdown",
   "metadata": {},
   "source": [
    "exact solver求解，需要由SBML模型生成求解器可读的模型输入文件，分别写入目标函数，约束和变量（反应边界），所有反应名称前加字符r以免出现数字开头的反应名称造成无法计算的错误，浮点数的系数均转换成有理数如20568/9223372进行精确求解。通过该求解器可以解决浮点数计算误差的问题，准确得出最优途径中的反应个数。"
   ]
  },
  {
   "cell_type": "code",
   "execution_count": 33,
   "metadata": {},
   "outputs": [],
   "source": [
    "from fractions import Fraction\n",
    "import subprocess\n",
    "#from __future__ import print_function\n",
    "#import pandas as pd\n",
    "import cobra\n",
    "import cobra.test #内嵌模型\n",
    "mname=\"ecoli\"\n",
    "#mname=\"textbook\"\n",
    "model = cobra.test.create_test_model(mname)\n",
    "outputfile=mname+'_flux.txt' #输出通量\n",
    "lpfilename=mname+'.lp' #exact solver需要的模型输入文件格式"
   ]
  },
  {
   "cell_type": "markdown",
   "metadata": {},
   "source": [
    "所有反应名称前加字符r以免出现数字开头的反应名称造成无法计算的错误，"
   ]
  },
  {
   "cell_type": "code",
   "execution_count": 34,
   "metadata": {},
   "outputs": [],
   "source": [
    "for rea in model.reactions:\n",
    "    rea.id='r'+rea.id"
   ]
  },
  {
   "cell_type": "markdown",
   "metadata": {},
   "source": [
    "生成esolver需要的输入文件，分别写入目标函数，约束和变量（反应边界）"
   ]
  },
  {
   "cell_type": "code",
   "execution_count": 35,
   "metadata": {},
   "outputs": [
    {
     "name": "stdout",
     "output_type": "stream",
     "text": [
      "-1.0 rEc_biomass_iJO1366_core_53p95M_reverse_a239e + 1.0 rEc_biomass_iJO1366_core_53p95M\n"
     ]
    }
   ],
   "source": [
    "obj=str(model.objective.expression).replace('*',' ')\n",
    "print(obj)\n",
    "#obj: -1.0 Ec_biomass_iJO1366_reverse_e94eb + 1.0 Ec_biomass_iJO1366 cobrapy中每个反应都拆成两个方向相反反应\n",
    "optobj = 'Maximize\\nobj: '+obj+ '\\n' "
   ]
  },
  {
   "cell_type": "markdown",
   "metadata": {},
   "source": [
    "处理针对每个代谢物的计量约束，如0 <= 1.0*GAPD - 1.0*GAPD_reverse_459c1 + 1.0*PGK - 1.0*PGK_reverse_02696 <= 0\n",
    "转换为1 GAPD -1 GAPD_reverse_459c1 + 1 PGK -1 PGK_reverse_02696 = 0的exact solver模型约束条件格式，对每个系数转换为有理数.\n",
    "对非等式约束条件必须拆分写成 1 x1 - 2 x2 >=0,1 x1 - 2 x2 <=0的形式，不能直接写0 <= 1 x1 - 2 x2 <=0,也不能变量在后如0 <= 1 x1 - 2 x2"
   ]
  },
  {
   "cell_type": "code",
   "execution_count": 37,
   "metadata": {},
   "outputs": [],
   "source": [
    "cons=model.constraints\n",
    "constraint = 'Subject To\\n'\n",
    "for con in cons:\n",
    "    a=con.get_linear_coefficients(con.variables)\n",
    "    rea=[]\n",
    "    for k,v in a.items():\n",
    "        rea.append(str(Fraction(v))+' '+k.name)#所有反应名称前加r以免出现数字开头的反应名称造成错误\n",
    "    connew=' + '.join(rea)\n",
    "    constraint +=  connew + ' = 0\\n' #对代谢分析可写成等式形式\n",
    "#    constraint +=  connew + ' >= '+str(con.lb)+'\\n'\n",
    "#    constraint += connew + ' <= '+str(con.ub)+'\\n'\n",
    "constraint =constraint.replace('+ -', '-') #将 + -1 的情况改为-1    rea=[]"
   ]
  },
  {
   "cell_type": "markdown",
   "metadata": {},
   "source": [
    "下面是一种直接针对字符串进行处理的方法，未对反应名称进行更改，如果反应名称首字符为数字可能出错，不建议用"
   ]
  },
  {
   "cell_type": "code",
   "execution_count": null,
   "metadata": {
    "collapsed": true
   },
   "outputs": [],
   "source": [
    "cons=model.constraints\n",
    "constraint = 'Subject To\\n'\n",
    "for con in cons:\n",
    "    rea=[]\n",
    "    reas=str(con.expression).split(\" + \")\n",
    "    for reas2 in reas:\n",
    "        reas3=reas2.split(\" - \")\n",
    "        rcoef=reas3[0].split(\"*\") #split coefficients\n",
    "        rea.append(str(Fraction(float(rcoef[0])))+' '+rcoef[1])\n",
    "        for r in reas3[1:]:\n",
    "            rcoef=r.split(\"*\")\n",
    "            rea.append(str(Fraction(-float(rcoef[0])))+' '+rcoef[1])\n",
    "    connew=' + '.join(rea)\n",
    "    constraint += connew + ' = 0\\n'\n",
    "#    constraint += '0 <= '+ connew + ' <= 0\\n'\n",
    "constraint =constraint.replace('+ -', '-') #将 + -1 的情况改为-1"
   ]
  },
  {
   "cell_type": "code",
   "execution_count": 38,
   "metadata": {},
   "outputs": [],
   "source": [
    "bounds = 'Bounds\\n'\n",
    "rbounds=model.variables\n",
    "bounds += ''.join(str(bound) + '\\n' for bound in rbounds)\n",
    "f = open(lpfilename, 'w') #输出lp文件\n",
    "f.write(optobj+constraint+bounds+'End\\n')\n",
    "f.close()"
   ]
  },
  {
   "cell_type": "code",
   "execution_count": 39,
   "metadata": {},
   "outputs": [],
   "source": [
    "subprocess.call([\"esolver\", \"-Ooptimal\", lpfilename]) #调用esolver进行计算\n",
    "subprocess.call([\"gunzip\", \"optimal.sol.gz\"])  #输出结果解压\n",
    "outFile = 'optimal.sol'  #myadd"
   ]
  },
  {
   "cell_type": "markdown",
   "metadata": {},
   "source": [
    "下面对esolver的输出文件进行处理，输出最优途径中各反应的通量值"
   ]
  },
  {
   "cell_type": "code",
   "execution_count": 40,
   "metadata": {},
   "outputs": [
    {
     "data": {
      "text/plain": [
       "0"
      ]
     },
     "execution_count": 40,
     "metadata": {},
     "output_type": "execute_result"
    }
   ],
   "source": [
    "f = open(outFile, 'r')\n",
    "g = f.readlines()\n",
    "f.close()\n",
    "flux = open(outputfile, 'w')\n",
    "opt1=g[2].split('=')[1].strip()\n",
    "if '/' in opt1:\n",
    "\tnums=opt1.split('/')\n",
    "\toptrate=float(nums[0])/float(nums[1])\n",
    "else:\n",
    "\toptrate=float(opt1)\n",
    "flux.write('optimal rate:\\t'+str(optrate)+'\\n')\n",
    "for k in range(4,len(g)):\n",
    "    if g[k]== 'REDUCED COST:\\n':\n",
    "        break\n",
    "    else:\n",
    "        rflux=g[k].split('=')\n",
    "        rname=rflux[0].strip()\n",
    "        opt1=rflux[1].strip()\n",
    "        if '/' in opt1:\n",
    "            nums=opt1.split('/')\n",
    "            if 'reverse' in rname:\n",
    "                optrate=-float(nums[0])/float(nums[1])\n",
    "                rname=rname.split('_')[0]\n",
    "            else:\n",
    "                optrate=float(nums[0])/float(nums[1])\n",
    "        else:\n",
    "            optrate=float(opt1)\n",
    "            if 'reverse' in rname:\n",
    "                rname=rname.split('_')[0]\n",
    "        flux.write(rname+'\\t'+str(optrate)+'\\n')\n",
    "#        flux.write(g[k].strip('\\n')+'\\t'+str(optrate)+'\\n')\n",
    "flux.close()\n",
    "subprocess.call([\"rm\", outFile])\n"
   ]
  },
  {
   "cell_type": "code",
   "execution_count": null,
   "metadata": {
    "collapsed": true
   },
   "outputs": [],
   "source": []
  }
 ],
 "metadata": {
  "kernelspec": {
   "display_name": "Python [default]",
   "language": "python",
   "name": "python3"
  },
  "language_info": {
   "codemirror_mode": {
    "name": "ipython",
    "version": 3
   },
   "file_extension": ".py",
   "mimetype": "text/x-python",
   "name": "python",
   "nbconvert_exporter": "python",
   "pygments_lexer": "ipython3",
   "version": "3.6.4"
  }
 },
 "nbformat": 4,
 "nbformat_minor": 2
}
