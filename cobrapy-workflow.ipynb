{
 "cells": [
  {
   "cell_type": "markdown",
   "metadata": {},
   "source": [
    "# 分析流程"
   ]
  },
  {
   "cell_type": "markdown",
   "metadata": {},
   "source": [
    "创建或打开模型\n",
    "编辑修改和查看模型\n",
    "Gap filling\n",
    "模型计算FBA\n",
    "FVA\n",
    "敲除分析"
   ]
  },
  {
   "cell_type": "markdown",
   "metadata": {},
   "source": [
    "用!pip install cobra语句命令在笔记本中即可直接执行python命令安装需要的包，不需要再打开terminal\n",
    "仅执行一遍，服务器安装后不要再执行"
   ]
  },
  {
   "cell_type": "code",
   "execution_count": null,
   "metadata": {
    "collapsed": true
   },
   "outputs": [],
   "source": [
    "#!pip install cobra"
   ]
  },
  {
   "cell_type": "markdown",
   "metadata": {},
   "source": [
    "## 创建打开模型"
   ]
  },
  {
   "cell_type": "markdown",
   "metadata": {},
   "source": [
    "可打开cobra.test的内嵌模型 \"ecoli\" and \"salmonella\" \"textbook\""
   ]
  },
  {
   "cell_type": "code",
   "execution_count": 1,
   "metadata": {
    "collapsed": true
   },
   "outputs": [],
   "source": [
    "from __future__ import print_function\n",
    "import cobra\n",
    "import cobra.test #内嵌模型\n",
    "#from cobra.util.solver import linear_reaction_coefficients\n",
    "# \"ecoli\" and \"salmonella\" are also valid arguments\n",
    "model = cobra.test.create_test_model(\"textbook\")\n",
    "#model = cobra.test.create_test_model(\"ecoli\")"
   ]
  },
  {
   "cell_type": "markdown",
   "metadata": {},
   "source": [
    "从头新建模型可用下列命令，但需逐一添加反应代谢物很麻烦，因此模型构建编辑最好在excel中进行，然后转成sbml文件导入。"
   ]
  },
  {
   "cell_type": "code",
   "execution_count": null,
   "metadata": {
    "collapsed": true
   },
   "outputs": [],
   "source": [
    "import os\n",
    "from os.path import join\n",
    "data_dir = cobra.test.data_dir\n",
    "#C:\\Users\\yahan\\Anaconda3\\Lib\\site-packages\\cobra\\test\\data\n",
    "model=cobra.io.read_sbml_model(join(data_dir, \"ijo1366.xml\"))\n",
    "model = read_sbml_model('data/iJO1366.xml.gz')#直接读取压缩文件\n",
    "#cobra.io.write_sbml_model(model, \"test_cobra.xml\", use_fbc_package=False) #写模型\n",
    "#!wget http://bigg.ucsd.edu/static/models/iJO1366.xml #从网络直接下载模型"
   ]
  },
  {
   "cell_type": "markdown",
   "metadata": {},
   "source": [
    "## 查看编辑修改模型"
   ]
  },
  {
   "cell_type": "markdown",
   "metadata": {},
   "source": [
    "查看反应、代谢物和基因个数，查看具体反应代谢物信息最好在excel表格中"
   ]
  },
  {
   "cell_type": "code",
   "execution_count": null,
   "metadata": {
    "collapsed": true
   },
   "outputs": [],
   "source": [
    "nr=len(model.reactions)\n",
    "print(len(model.metabolites))\n",
    "print(len(model.genes))\n",
    "print(model.compartments)"
   ]
  },
  {
   "cell_type": "markdown",
   "metadata": {},
   "source": [
    "检查某一反应方程是否满足物料平衡（需要代谢物有相关化学式等信息）"
   ]
  },
  {
   "cell_type": "code",
   "execution_count": 8,
   "metadata": {
    "collapsed": true
   },
   "outputs": [
    {
     "name": "stdout",
     "output_type": "stream",
     "text": [
      "g6p_c <=> f6p_c\n"
     ]
    },
    {
     "data": {
      "text/plain": [
       "{}"
      ]
     },
     "execution_count": 8,
     "metadata": {},
     "output_type": "execute_result"
    }
   ],
   "source": [
    "pgi = model.reactions.get_by_id(\"PGI\")\n",
    "print(pgi.build_reaction_string())\n",
    "pgi.check_mass_balance()"
   ]
  },
  {
   "cell_type": "markdown",
   "metadata": {},
   "source": [
    "可检索搜索模型中代谢物和反应，如下例搜索名字中包含glucose的所有代谢物"
   ]
  },
  {
   "cell_type": "code",
   "execution_count": null,
   "metadata": {
    "collapsed": true
   },
   "outputs": [],
   "source": [
    "model.metabolites.query('glucose', 'name')"
   ]
  },
  {
   "cell_type": "markdown",
   "metadata": {},
   "source": [
    "检查模型中的边界条件，即哪些反应速率受限制，糖，氧等"
   ]
  },
  {
   "cell_type": "code",
   "execution_count": 6,
   "metadata": {},
   "outputs": [
    {
     "name": "stdout",
     "output_type": "stream",
     "text": [
      "{'EX_co2_e': 1000.0, 'EX_glc__D_e': 10.0, 'EX_h_e': 1000.0, 'EX_h2o_e': 1000.0, 'EX_nh4_e': 1000.0, 'EX_o2_e': 1000.0, 'EX_pi_e': 1000.0}\n"
     ]
    }
   ],
   "source": [
    "print(model.medium)"
   ]
  },
  {
   "cell_type": "markdown",
   "metadata": {},
   "source": [
    "检查一个代谢物参与反应的个数"
   ]
  },
  {
   "cell_type": "code",
   "execution_count": null,
   "metadata": {
    "collapsed": true
   },
   "outputs": [],
   "source": [
    "g6p=model.metabolites.get_by_id(\"g6p_c\")\n",
    "len(g6p.reactions)"
   ]
  },
  {
   "cell_type": "markdown",
   "metadata": {},
   "source": [
    "某一反应的相关基因及某一基因的相关反应，基因和反应间的关系"
   ]
  },
  {
   "cell_type": "code",
   "execution_count": null,
   "metadata": {
    "collapsed": true
   },
   "outputs": [],
   "source": [
    "pgi.genes\n",
    "pgi_gene = model.genes.get_by_id(\"b4025\")\n",
    "pgi_gene.reactions\n",
    "pgi.gene_reaction_rule"
   ]
  },
  {
   "cell_type": "markdown",
   "metadata": {},
   "source": [
    "基因敲除可采用 `delete_model_genes` 函数，基于GPR修改相应反应的上下限为0，同时可以设定cumulative_deletions参数来确定是单基因敲除还是累积敲除。undelete_model_genes函数复原敲除基因 "
   ]
  },
  {
   "cell_type": "code",
   "execution_count": null,
   "metadata": {
    "collapsed": true
   },
   "outputs": [],
   "source": [
    "cobra.manipulation.delete_model_genes(model, [\"b4025\"], cumulative_deletions=True)\n",
    "cobra.manipulation.undelete_model_genes(model)"
   ]
  },
  {
   "cell_type": "markdown",
   "metadata": {},
   "source": [
    "## block reaction analysis"
   ]
  },
  {
   "cell_type": "code",
   "execution_count": null,
   "metadata": {},
   "outputs": [],
   "source": [
    "cobra.flux_analysis.variability.find_blocked_reactions(model, reaction_list=None, zero_cutoff=1e-09, open_exchanges=False)"
   ]
  },
  {
   "cell_type": "markdown",
   "metadata": {},
   "source": [
    "## FBA分析"
   ]
  },
  {
   "cell_type": "markdown",
   "metadata": {},
   "source": [
    "设定目标函数，约束条件（除了计量约束外可添加任意新的约束关系），选择求解器，求解"
   ]
  },
  {
   "cell_type": "code",
   "execution_count": null,
   "metadata": {
    "collapsed": true
   },
   "outputs": [],
   "source": [
    "model = cobra.test.create_test_model(\"textbook\")\n",
    "model.objective\n",
    "model.objective.expression#目标反应常表示为其正反应减去其逆反应\n",
    "#model.objective = 'ATPM' #新目标函数\n",
    "model.objective = {model.reactions.Biomass_Ecoli_core: 1}"
   ]
  },
  {
   "cell_type": "code",
   "execution_count": null,
   "metadata": {},
   "outputs": [],
   "source": [
    "以某一目标产物生成速率为优化目标"
   ]
  },
  {
   "cell_type": "code",
   "execution_count": null,
   "metadata": {},
   "outputs": [],
   "source": [
    "product=model.metabolites.get_by_id('thr__L_c')\n",
    "demand =model.add_boundary(product, type='demand') #add demand reaction as the objective\n",
    "model.objective = demand\n",
    "model.optimize().objective_value"
   ]
  },
  {
   "cell_type": "markdown",
   "metadata": {},
   "source": [
    "计算一系列目标产物的反应速率,利用with每次更改目标后自动改回，待验证"
   ]
  },
  {
   "cell_type": "code",
   "execution_count": null,
   "metadata": {},
   "outputs": [],
   "source": [
    "with model:\n",
    "    for p in product_list:\n",
    "        product=model.metabolites.get_by_id(p)\n",
    "        model.objective = model.add_boundary(product, type='demand')\n",
    "        model.optimize().objective_value"
   ]
  },
  {
   "cell_type": "code",
   "execution_count": null,
   "metadata": {
    "collapsed": true
   },
   "outputs": [],
   "source": [
    "#新约束使两反应FBA和NH4t相同速率\n",
    "same_flux = model.problem.Constraint(model.reactions.FBA.flux_expression - model.reactions.NH4t.flux_expression,lb=0,ub=0)\n",
    "model.add_cons_vars(same_flux)\n",
    "#约束使生长速率不小于0.1，也可以直接修改反应下限实现\n",
    "co = model.problem.Constraint(model.reactions.Biomass_Ecoli_core.flux_expression, lb=0.1) \n",
    "model.add_cons_vars([co])\n",
    "#等同下面语句\n",
    "model.reactions.Biomass_Ecoli_core.lower_bound=0.1"
   ]
  },
  {
   "cell_type": "markdown",
   "metadata": {},
   "source": [
    "可检查模型的计量矩阵等"
   ]
  },
  {
   "cell_type": "code",
   "execution_count": 5,
   "metadata": {
    "collapsed": true
   },
   "outputs": [
    {
     "name": "stdout",
     "output_type": "stream",
     "text": [
      "{'EX_co2_e': 1000.0, 'EX_glc__D_e': 10.0, 'EX_h_e': 1000.0, 'EX_h2o_e': 1000.0, 'EX_nh4_e': 1000.0, 'EX_o2_e': 1000.0, 'EX_pi_e': 1000.0}\n"
     ]
    },
    {
     "data": {
      "text/plain": [
       "<matplotlib.lines.Line2D at 0x7f86ef5b39e8>"
      ]
     },
     "execution_count": 5,
     "metadata": {},
     "output_type": "execute_result"
    },
    {
     "data": {
      "image/png": "[encoded data removed]",
      "text/plain": [
       "<matplotlib.figure.Figure at 0x7f86ef5dc898>"
      ]
     },
     "metadata": {},
     "output_type": "display_data"
    }
   ],
   "source": [
    "#print(str(model.solver)) #将模型转化为约束优化的数学方程表示\n",
    "#直接将问题数学化以应用通用的约束优化方法求解\n",
    "cobra.util.array.constraint_matrices(model, array_type='dense', include_vars=False, zero_tol=1e-06) \n",
    "stoich_matrix = cobra.util.create_stoichiometric_matrix(model, array_type='dense', dtype=None)#生成计量矩阵，返回一numpy array\n",
    "#array——type if ‘dense’, return a standard numpy.array, ‘dok’, or ‘lil’ will construct a sparse array using scipy\n",
    "#and ‘DataFrame’ will give a pandas DataFrame with metabolite indices and reaction columns\n",
    "cobra.util.array.nullspace(stoich_matrix, atol=1e-13, rtol=0) #计算零空间\n",
    "%matplotlib inline\n",
    "import matplotlib.pyplot as plt\n",
    "plt.spy(stoich_matrix, precision=0.01, markersize=.2) #直接对计量矩阵可视化"
   ]
  },
  {
   "cell_type": "code",
   "execution_count": 2,
   "metadata": {
    "collapsed": true
   },
   "outputs": [
    {
     "name": "stdout",
     "output_type": "stream",
     "text": [
      "IN FLUXES        OUT FLUXES    OBJECTIVES\n",
      "---------------  ------------  ----------------------\n",
      "o2_e      21.8   h2o_e  29.2   Biomass_Ecol...  0.874\n",
      "glc__D_e  10     co2_e  22.8\n",
      "nh4_e      4.77  h_e    17.5\n",
      "pi_e       3.21\n",
      "PRODUCING REACTIONS -- Nicotinamide adenine dinucleotide - reduced (nadh_c)\n",
      "---------------------------------------------------------------------------\n",
      "%       FLUX  RXN ID      REACTION\n",
      "----  ------  ----------  --------------------------------------------------\n",
      "42%    16     GAPD        g3p_c + nad_c + pi_c <=> 13dpg_c + h_c + nadh_c\n",
      "24%     9.28  PDH         coa_c + nad_c + pyr_c --> accoa_c + co2_c + nadh_c\n",
      "13%     5.06  AKGDH       akg_c + coa_c + nad_c --> co2_c + nadh_c + succ...\n",
      "13%     5.06  MDH         mal__L_c + nad_c <=> h_c + nadh_c + oaa_c\n",
      "8%      3.1   Biomass...  1.496 3pg_c + 3.7478 accoa_c + 59.81 atp_c + 0....\n",
      "\n",
      "CONSUMING REACTIONS -- Nicotinamide adenine dinucleotide - reduced (nadh_c)\n",
      "---------------------------------------------------------------------------\n",
      "%       FLUX  RXN ID      REACTION\n",
      "----  ------  ----------  --------------------------------------------------\n",
      "100%   38.5   NADH16      4.0 h_c + nadh_c + q8_c --> 3.0 h_e + nad_c + q...\n",
      "\\* Problem: Unknown *\\\n",
      "\n",
      "Maximize\n",
      " obj: + Biomass_Ecoli_core - Biomass_Ecoli_core_reverse_2cdba\n",
      "\n",
      "Subject To\n",
      " r_1: - PGK_reverse_02696 + PGK - GAPD_reverse_459c1 + GAPD = 0\n",
      " r_2: + PGM_reverse_fc9af - PGM + ENO_reverse_40eea - ENO = 0\n",
      " r_3: - PGM_reverse_fc9af + PGM + PGK_reverse_02696 - PGK\n",
      " + 1.496 Biomass_Ecoli_core_reverse_2cdba - 1.496 Biomass_Ecoli_core = 0\n",
      " r_4: - PGL_reverse_2bb6b + PGL + GND_reverse_eec5c - GND = 0\n",
      " r_5: + PGL_reverse_2bb6b - PGL - G6PDH2r_reverse_19ddf + G6PDH2r = 0\n",
      " ac_c: - ACt2r_reverse_64e05 + ACt2r + ACKr_reverse_b49c0 - ACKr = 0\n",
      " ac_e: + EX_ac_e_reverse_0be96 - EX_ac_e + ACt2r_reverse_64e05 - ACt2r\n",
      " = 0\n",
      " acald_c: - ALCD2x_reverse_5d107 + ALCD2x - ACALDt_reverse_858fa\n",
      " + ACALDt + ACALD_reverse_fda2b - ACALD = 0\n",
      " acald_e: + EX_acald_e_reverse_c096e - EX_acald_e + ACALDt_reverse_858fa\n",
      " - ACALDt = 0\n",
      " accoa_c: + PTAr_reverse_fce15 - PTAr - PFL_reverse_af9ec + PFL\n",
      " - PDH_reverse_ca160 + PDH + MALS_reverse_d7382 - MALS\n",
      " + CS_reverse_8d7e9 - CS + 3.7478 Biomass_Ecoli_core_reverse_2cdba\n",
      " - 3.7478 Biomass_Ecoli_core - ACALD_reverse_fda2b + ACALD = 0\n",
      " acon_C_c: + ACONTb_reverse_e198a - ACONTb - ACONTa_reverse_cad6d\n",
      " + ACONTa = 0\n",
      " actp_c: - PTAr_reverse_fce15 + PTAr - ACKr_reverse_b49c0 + ACKr = 0\n",
      " adp_c: - SUCOAS_reverse_22958 + SUCOAS + PYK_reverse_bc8ff - PYK\n",
      " - PPCK_reverse_2557d + PPCK - PGK_reverse_02696 + PGK\n",
      " - PFK_reverse_d24a6 + PFK - GLNabc_reverse_1d82a + GLNabc\n",
      " - GLNS_reverse_59581 + GLNS - 59.81 Biomass_Ecoli_core_reverse_2cdba\n",
      " + 59.81 Biomass_Ecoli_core + ATPS4r_reverse_64306 - ATPS4r\n",
      " - ATPM_reverse_5b752 + ATPM - 2 ADK1_reverse_a6f90 + 2 ADK1\n",
      " - ACKr_reverse_b49c0 + ACKr = 0\n",
      " akg_c: - ICDHyr_reverse_7f84b + ICDHyr + GLUSy_reverse_6a00f - GLUSy\n",
      " - GLUDy_reverse_fa4e7 + GLUDy - 4.1182 Biomass_Ecoli_core_reverse_2cdba\n",
      " + 4.1182 Biomass_Ecoli_core - AKGt2r_reverse_5d500 + AKGt2r\n",
      " + AKGDH_reverse_08bdc - AKGDH = 0\n",
      " akg_e: + EX_akg_e_reverse_70d85 - EX_akg_e + AKGt2r_reverse_5d500\n",
      " - AKGt2r = 0\n",
      " amp_c: - PPS_reverse_1c319 + PPS + ADK1_reverse_a6f90 - ADK1 = 0\n",
      " atp_c: + SUCOAS_reverse_22958 - SUCOAS - PYK_reverse_bc8ff + PYK\n",
      " + PPS_reverse_1c319 - PPS + PPCK_reverse_2557d - PPCK\n",
      " + PGK_reverse_02696 - PGK + PFK_reverse_d24a6 - PFK\n",
      " + GLNabc_reverse_1d82a - GLNabc + GLNS_reverse_59581 - GLNS\n",
      " + 59.81 Biomass_Ecoli_core_reverse_2cdba - 59.81 Biomass_Ecoli_core\n",
      " - ATPS4r_reverse_64306 + ATPS4r + ATPM_reverse_5b752 - ATPM\n",
      " + ADK1_reverse_a6f90 - ADK1 + ACKr_reverse_b49c0 - ACKr = 0\n",
      " cit_c: - CS_reverse_8d7e9 + CS + ACONTa_reverse_cad6d - ACONTa = 0\n",
      " co2_c: - PPCK_reverse_2557d + PPCK + PPC_reverse_e854a - PPC\n",
      " - PDH_reverse_ca160 + PDH - ME2_reverse_2b0a2 + ME2 - ME1_reverse_9736c\n",
      " + ME1 - ICDHyr_reverse_7f84b + ICDHyr - GND_reverse_eec5c + GND\n",
      " - CO2t_reverse_7c42f + CO2t - AKGDH_reverse_08bdc + AKGDH = 0\n",
      " co2_e: + EX_co2_e_reverse_d0466 - EX_co2_e + CO2t_reverse_7c42f - CO2t\n",
      " = 0\n",
      " coa_c: + SUCOAS_reverse_22958 - SUCOAS - PTAr_reverse_fce15 + PTAr\n",
      " + PFL_reverse_af9ec - PFL + PDH_reverse_ca160 - PDH\n",
      " - MALS_reverse_d7382 + MALS - CS_reverse_8d7e9 + CS\n",
      " - 3.7478 Biomass_Ecoli_core_reverse_2cdba + 3.7478 Biomass_Ecoli_core\n",
      " + AKGDH_reverse_08bdc - AKGDH + ACALD_reverse_fda2b - ACALD = 0\n",
      " dhap_c: + TPI_reverse_c2c3b - TPI - FBA_reverse_84806 + FBA = 0\n",
      " e4p_c: + TKT2_reverse_7ebc7 - TKT2 - TALA_reverse_adfda + TALA\n",
      " + 0.361 Biomass_Ecoli_core_reverse_2cdba - 0.361 Biomass_Ecoli_core = 0\n",
      " etoh_c: - ETOHt2r_reverse_b3d52 + ETOHt2r + ALCD2x_reverse_5d107\n",
      " - ALCD2x = 0\n",
      " etoh_e: + EX_etoh_e_reverse_cc64f - EX_etoh_e + ETOHt2r_reverse_b3d52\n",
      " - ETOHt2r = 0\n",
      " f6p_c: - TKT2_reverse_7ebc7 + TKT2 - TALA_reverse_adfda + TALA\n",
      " - PGI_reverse_27efc + PGI + PFK_reverse_d24a6 - PFK\n",
      " - FRUpts2_reverse_58d3a + FRUpts2 - FBP_reverse_bf2c9 + FBP\n",
      " + 0.0709 Biomass_Ecoli_core_reverse_2cdba - 0.0709 Biomass_Ecoli_core\n",
      " = 0\n",
      " fdp_c: - PFK_reverse_d24a6 + PFK + FBP_reverse_bf2c9 - FBP\n",
      " + FBA_reverse_84806 - FBA = 0\n",
      " for_c: - PFL_reverse_af9ec + PFL + FORti_reverse_18c06 - FORti\n",
      " - FORt2_reverse_89839 + FORt2 = 0\n",
      " for_e: - FORti_reverse_18c06 + FORti + FORt2_reverse_89839 - FORt2\n",
      " + EX_for_e_reverse_23269 - EX_for_e = 0\n",
      " fru_e: + FRUpts2_reverse_58d3a - FRUpts2 + EX_fru_e_reverse_c3828\n",
      " - EX_fru_e = 0\n",
      " fum_c: - SUCDi_reverse_480f4 + SUCDi - FUMt2_2_reverse_7b4b6 + FUMt2_2\n",
      " + FUM_reverse_d3642 - FUM + FRD7_reverse_e0172 - FRD7 = 0\n",
      " fum_e: + FUMt2_2_reverse_7b4b6 - FUMt2_2 + EX_fum_e_reverse_e3432\n",
      " - EX_fum_e = 0\n",
      " g3p_c: - TPI_reverse_c2c3b + TPI - TKT2_reverse_7ebc7 + TKT2\n",
      " - TKT1_reverse_a1021 + TKT1 + TALA_reverse_adfda - TALA\n",
      " + GAPD_reverse_459c1 - GAPD - FBA_reverse_84806 + FBA\n",
      " + 0.129 Biomass_Ecoli_core_reverse_2cdba - 0.129 Biomass_Ecoli_core = 0\n",
      " g6p_c: + PGI_reverse_27efc - PGI - GLCpts_reverse_a52ae + GLCpts\n",
      " + G6PDH2r_reverse_19ddf - G6PDH2r\n",
      " + 0.205 Biomass_Ecoli_core_reverse_2cdba - 0.205 Biomass_Ecoli_core = 0\n",
      " glc__D_e: + GLCpts_reverse_a52ae - GLCpts + EX_glc__D_e_reverse_af641\n",
      " - EX_glc__D_e = 0\n",
      " gln__L_c: + GLUSy_reverse_6a00f - GLUSy + GLUN_reverse_4ccdb - GLUN\n",
      " - GLNabc_reverse_1d82a + GLNabc - GLNS_reverse_59581 + GLNS\n",
      " + 0.2557 Biomass_Ecoli_core_reverse_2cdba - 0.2557 Biomass_Ecoli_core\n",
      " = 0\n",
      " gln__L_e: + GLNabc_reverse_1d82a - GLNabc + EX_gln__L_e_reverse_6a1a1\n",
      " - EX_gln__L_e = 0\n",
      " glu__L_c: - GLUt2r_reverse_3e88a + GLUt2r - 2 GLUSy_reverse_6a00f\n",
      " + 2 GLUSy - GLUN_reverse_4ccdb + GLUN + GLUDy_reverse_fa4e7 - GLUDy\n",
      " + GLNS_reverse_59581 - GLNS + 4.9414 Biomass_Ecoli_core_reverse_2cdba\n",
      " - 4.9414 Biomass_Ecoli_core = 0\n",
      " glu__L_e: + GLUt2r_reverse_3e88a - GLUt2r + EX_glu__L_e_reverse_42f6c\n",
      " - EX_glu__L_e = 0\n",
      " glx_c: + MALS_reverse_d7382 - MALS - ICL_reverse_2f27e + ICL = 0\n",
      " h2o_c: + PPS_reverse_1c319 - PPS + PPC_reverse_e854a - PPC\n",
      " + PGL_reverse_2bb6b - PGL + MALS_reverse_d7382 - MALS\n",
      " - H2Ot_reverse_aa560 + H2Ot + GLUN_reverse_4ccdb - GLUN\n",
      " + GLUDy_reverse_fa4e7 - GLUDy + GLNabc_reverse_1d82a - GLNabc\n",
      " + FUM_reverse_d3642 - FUM + FBP_reverse_bf2c9 - FBP - ENO_reverse_40eea\n",
      " + ENO - CYTBD_reverse_611ba + CYTBD + CS_reverse_8d7e9 - CS\n",
      " + 59.81 Biomass_Ecoli_core_reverse_2cdba - 59.81 Biomass_Ecoli_core\n",
      " - ATPS4r_reverse_64306 + ATPS4r + ATPM_reverse_5b752 - ATPM\n",
      " + ACONTb_reverse_e198a - ACONTb - ACONTa_reverse_cad6d + ACONTa = 0\n",
      " h2o_e: + H2Ot_reverse_aa560 - H2Ot + EX_h2o_e_reverse_3ced4 - EX_h2o_e\n",
      " = 0\n",
      " h_c: - 2 THD2_reverse_f65dd + 2 THD2 - SUCCt3_reverse_7d82a + SUCCt3\n",
      " - 2 SUCCt2_2_reverse_206ca + 2 SUCCt2_2 - PYRt2_reverse_a6e24 + PYRt2\n",
      " + PYK_reverse_bc8ff - PYK - 2 PPS_reverse_1c319 + 2 PPS\n",
      " - PPC_reverse_e854a + PPC - PIt2r_reverse_1cd61 + PIt2r\n",
      " - PGL_reverse_2bb6b + PGL - PFK_reverse_d24a6 + PFK\n",
      " + 4 NADH16_reverse_330a2 - 4 NADH16 - MDH_reverse_ee52c + MDH\n",
      " - 2 MALt2_2_reverse_a635f + 2 MALt2_2 - MALS_reverse_d7382 + MALS\n",
      " - LDH_D_reverse_f8507 + LDH_D - GLUt2r_reverse_3e88a + GLUt2r\n",
      " + GLUSy_reverse_6a00f - GLUSy - GLUDy_reverse_fa4e7 + GLUDy\n",
      " - GLNabc_reverse_1d82a + GLNabc - GLNS_reverse_59581 + GLNS\n",
      " - GAPD_reverse_459c1 + GAPD - G6PDH2r_reverse_19ddf + G6PDH2r\n",
      " - 2 FUMt2_2_reverse_7b4b6 + 2 FUMt2_2 - FORt2_reverse_89839 + FORt2\n",
      " - ETOHt2r_reverse_b3d52 + ETOHt2r - D_LACt2_reverse_d0dc8 + D_LACt2\n",
      " + 2 CYTBD_reverse_611ba - 2 CYTBD - CS_reverse_8d7e9 + CS\n",
      " - 59.81 Biomass_Ecoli_core_reverse_2cdba + 59.81 Biomass_Ecoli_core\n",
      " - 3 ATPS4r_reverse_64306 + 3 ATPS4r - ATPM_reverse_5b752 + ATPM\n",
      " - ALCD2x_reverse_5d107 + ALCD2x - AKGt2r_reverse_5d500 + AKGt2r\n",
      " - ACt2r_reverse_64e05 + ACt2r - ACALD_reverse_fda2b + ACALD = 0\n",
      " h_e: + 2 THD2_reverse_f65dd - 2 THD2 + SUCCt3_reverse_7d82a - SUCCt3\n",
      " + 2 SUCCt2_2_reverse_206ca - 2 SUCCt2_2 + PYRt2_reverse_a6e24 - PYRt2\n",
      " + PIt2r_reverse_1cd61 - PIt2r - 3 NADH16_reverse_330a2 + 3 NADH16\n",
      " + 2 MALt2_2_reverse_a635f - 2 MALt2_2 + GLUt2r_reverse_3e88a - GLUt2r\n",
      " + 2 FUMt2_2_reverse_7b4b6 - 2 FUMt2_2 + FORt2_reverse_89839 - FORt2\n",
      " + EX_h_e_reverse_3e0c5 - EX_h_e + ETOHt2r_reverse_b3d52 - ETOHt2r\n",
      " + D_LACt2_reverse_d0dc8 - D_LACt2 - 2 CYTBD_reverse_611ba + 2 CYTBD\n",
      " + 4 ATPS4r_reverse_64306 - 4 ATPS4r + AKGt2r_reverse_5d500 - AKGt2r\n",
      " + ACt2r_reverse_64e05 - ACt2r = 0\n",
      " icit_c: + ICL_reverse_2f27e - ICL + ICDHyr_reverse_7f84b - ICDHyr\n",
      " - ACONTb_reverse_e198a + ACONTb = 0\n",
      " lac__D_c: + LDH_D_reverse_f8507 - LDH_D - D_LACt2_reverse_d0dc8\n",
      " + D_LACt2 = 0\n",
      " lac__D_e: + EX_lac__D_e_reverse_f95b4 - EX_lac__D_e\n",
      " + D_LACt2_reverse_d0dc8 - D_LACt2 = 0\n",
      " mal__L_c: + ME2_reverse_2b0a2 - ME2 + ME1_reverse_9736c - ME1\n",
      " + MDH_reverse_ee52c - MDH - MALt2_2_reverse_a635f + MALt2_2\n",
      " - MALS_reverse_d7382 + MALS - FUM_reverse_d3642 + FUM = 0\n",
      " mal__L_e: + MALt2_2_reverse_a635f - MALt2_2 + EX_mal__L_e_reverse_af154\n",
      " - EX_mal__L_e = 0\n",
      " nad_c: - THD2_reverse_f65dd + THD2 + PDH_reverse_ca160 - PDH\n",
      " + NADTRHD_reverse_49725 - NADTRHD - NADH16_reverse_330a2 + NADH16\n",
      " + ME1_reverse_9736c - ME1 + MDH_reverse_ee52c - MDH\n",
      " + LDH_D_reverse_f8507 - LDH_D + GAPD_reverse_459c1 - GAPD\n",
      " + 3.547 Biomass_Ecoli_core_reverse_2cdba - 3.547 Biomass_Ecoli_core\n",
      " + ALCD2x_reverse_5d107 - ALCD2x + AKGDH_reverse_08bdc - AKGDH\n",
      " + ACALD_reverse_fda2b - ACALD = 0\n",
      " nadh_c: + THD2_reverse_f65dd - THD2 - PDH_reverse_ca160 + PDH\n",
      " - NADTRHD_reverse_49725 + NADTRHD + NADH16_reverse_330a2 - NADH16\n",
      " - ME1_reverse_9736c + ME1 - MDH_reverse_ee52c + MDH\n",
      " - LDH_D_reverse_f8507 + LDH_D - GAPD_reverse_459c1 + GAPD\n",
      " - 3.547 Biomass_Ecoli_core_reverse_2cdba + 3.547 Biomass_Ecoli_core\n",
      " - ALCD2x_reverse_5d107 + ALCD2x - AKGDH_reverse_08bdc + AKGDH\n",
      " - ACALD_reverse_fda2b + ACALD = 0\n",
      " nadp_c: + THD2_reverse_f65dd - THD2 - NADTRHD_reverse_49725 + NADTRHD\n",
      " + ME2_reverse_2b0a2 - ME2 + ICDHyr_reverse_7f84b - ICDHyr\n",
      " + GND_reverse_eec5c - GND - GLUSy_reverse_6a00f + GLUSy\n",
      " + GLUDy_reverse_fa4e7 - GLUDy + G6PDH2r_reverse_19ddf - G6PDH2r\n",
      " - 13.0279 Biomass_Ecoli_core_reverse_2cdba + 13.0279 Biomass_Ecoli_core\n",
      " = 0\n",
      " nadph_c: - THD2_reverse_f65dd + THD2 + NADTRHD_reverse_49725 - NADTRHD\n",
      " - ME2_reverse_2b0a2 + ME2 - ICDHyr_reverse_7f84b + ICDHyr\n",
      " - GND_reverse_eec5c + GND + GLUSy_reverse_6a00f - GLUSy\n",
      " - GLUDy_reverse_fa4e7 + GLUDy - G6PDH2r_reverse_19ddf + G6PDH2r\n",
      " + 13.0279 Biomass_Ecoli_core_reverse_2cdba - 13.0279 Biomass_Ecoli_core\n",
      " = 0\n",
      " nh4_c: - NH4t_reverse_551ee + NH4t - GLUN_reverse_4ccdb + GLUN\n",
      " - GLUDy_reverse_fa4e7 + GLUDy + GLNS_reverse_59581 - GLNS = 0\n",
      " nh4_e: + NH4t_reverse_551ee - NH4t + EX_nh4_e_reverse_f9cc6 - EX_nh4_e\n",
      " = 0\n",
      " o2_c: - O2t_reverse_4d957 + O2t + 0.5 CYTBD_reverse_611ba - 0.5 CYTBD\n",
      " = 0\n",
      " o2_e: + O2t_reverse_4d957 - O2t + EX_o2_e_reverse_efa94 - EX_o2_e = 0\n",
      " oaa_c: + PPCK_reverse_2557d - PPCK - PPC_reverse_e854a + PPC\n",
      " - MDH_reverse_ee52c + MDH + CS_reverse_8d7e9 - CS\n",
      " + 1.7867 Biomass_Ecoli_core_reverse_2cdba - 1.7867 Biomass_Ecoli_core\n",
      " = 0\n",
      " pep_c: + PYK_reverse_bc8ff - PYK - PPS_reverse_1c319 + PPS\n",
      " - PPCK_reverse_2557d + PPCK + PPC_reverse_e854a - PPC\n",
      " + GLCpts_reverse_a52ae - GLCpts + FRUpts2_reverse_58d3a - FRUpts2\n",
      " - ENO_reverse_40eea + ENO + 0.5191 Biomass_Ecoli_core_reverse_2cdba\n",
      " - 0.5191 Biomass_Ecoli_core = 0\n",
      " pi_c: - SUCOAS_reverse_22958 + SUCOAS + PTAr_reverse_fce15 - PTAr\n",
      " - PPS_reverse_1c319 + PPS - PPC_reverse_e854a + PPC\n",
      " - PIt2r_reverse_1cd61 + PIt2r - GLNabc_reverse_1d82a + GLNabc\n",
      " - GLNS_reverse_59581 + GLNS + GAPD_reverse_459c1 - GAPD\n",
      " - FBP_reverse_bf2c9 + FBP - 59.81 Biomass_Ecoli_core_reverse_2cdba\n",
      " + 59.81 Biomass_Ecoli_core + ATPS4r_reverse_64306 - ATPS4r\n",
      " - ATPM_reverse_5b752 + ATPM = 0\n",
      " pi_e: + PIt2r_reverse_1cd61 - PIt2r + EX_pi_e_reverse_1fb09 - EX_pi_e\n",
      " = 0\n",
      " pyr_c: - PYRt2_reverse_a6e24 + PYRt2 - PYK_reverse_bc8ff + PYK\n",
      " + PPS_reverse_1c319 - PPS + PFL_reverse_af9ec - PFL + PDH_reverse_ca160\n",
      " - PDH - ME2_reverse_2b0a2 + ME2 - ME1_reverse_9736c + ME1\n",
      " - LDH_D_reverse_f8507 + LDH_D - GLCpts_reverse_a52ae + GLCpts\n",
      " - FRUpts2_reverse_58d3a + FRUpts2\n",
      " + 2.8328 Biomass_Ecoli_core_reverse_2cdba - 2.8328 Biomass_Ecoli_core\n",
      " = 0\n",
      " pyr_e: + PYRt2_reverse_a6e24 - PYRt2 + EX_pyr_e_reverse_1f6de\n",
      " - EX_pyr_e = 0\n",
      " q8_c: + SUCDi_reverse_480f4 - SUCDi + NADH16_reverse_330a2 - NADH16\n",
      " - FRD7_reverse_e0172 + FRD7 - CYTBD_reverse_611ba + CYTBD = 0\n",
      " q8h2_c: - SUCDi_reverse_480f4 + SUCDi - NADH16_reverse_330a2 + NADH16\n",
      " + FRD7_reverse_e0172 - FRD7 + CYTBD_reverse_611ba - CYTBD = 0\n",
      " r5p_c: + TKT1_reverse_a1021 - TKT1 + RPI_reverse_853a1 - RPI\n",
      " + 0.8977 Biomass_Ecoli_core_reverse_2cdba - 0.8977 Biomass_Ecoli_core\n",
      " = 0\n",
      " ru5p__D_c: - RPI_reverse_853a1 + RPI + RPE_reverse_a1b04 - RPE\n",
      " - GND_reverse_eec5c + GND = 0\n",
      " s7p_c: - TKT1_reverse_a1021 + TKT1 + TALA_reverse_adfda - TALA = 0\n",
      " succ_c: + SUCOAS_reverse_22958 - SUCOAS + SUCDi_reverse_480f4 - SUCDi\n",
      " + SUCCt3_reverse_7d82a - SUCCt3 - SUCCt2_2_reverse_206ca + SUCCt2_2\n",
      " - ICL_reverse_2f27e + ICL - FRD7_reverse_e0172 + FRD7 = 0\n",
      " succ_e: - SUCCt3_reverse_7d82a + SUCCt3 + SUCCt2_2_reverse_206ca\n",
      " - SUCCt2_2 + EX_succ_e_reverse_a9039 - EX_succ_e = 0\n",
      " succoa_c: - SUCOAS_reverse_22958 + SUCOAS - AKGDH_reverse_08bdc + AKGDH\n",
      " = 0\n",
      " xu5p__D_c: + TKT2_reverse_7ebc7 - TKT2 + TKT1_reverse_a1021 - TKT1\n",
      " - RPE_reverse_a1b04 + RPE = 0\n",
      "\n",
      "Bounds\n",
      " 0 <= ACALD <= 1000\n",
      " 0 <= ACALD_reverse_fda2b <= 1000\n",
      " 0 <= ACALDt <= 1000\n",
      " 0 <= ACALDt_reverse_858fa <= 1000\n",
      " 0 <= ACKr <= 1000\n",
      " 0 <= ACKr_reverse_b49c0 <= 1000\n",
      " 0 <= ACONTa <= 1000\n",
      " 0 <= ACONTa_reverse_cad6d <= 1000\n",
      " 0 <= ACONTb <= 1000\n",
      " 0 <= ACONTb_reverse_e198a <= 1000\n",
      " 0 <= ACt2r <= 1000\n",
      " 0 <= ACt2r_reverse_64e05 <= 1000\n",
      " 0 <= ADK1 <= 1000\n",
      " 0 <= ADK1_reverse_a6f90 <= 1000\n",
      " 0 <= AKGDH <= 1000\n",
      " AKGDH_reverse_08bdc = 0\n",
      " 0 <= AKGt2r <= 1000\n",
      " 0 <= AKGt2r_reverse_5d500 <= 1000\n",
      " 0 <= ALCD2x <= 1000\n",
      " 0 <= ALCD2x_reverse_5d107 <= 1000\n",
      " 8.39 <= ATPM <= 1000\n",
      " ATPM_reverse_5b752 = 0\n",
      " 0 <= ATPS4r <= 1000\n",
      " 0 <= ATPS4r_reverse_64306 <= 1000\n",
      " 0 <= Biomass_Ecoli_core <= 1000\n",
      " Biomass_Ecoli_core_reverse_2cdba = 0\n",
      " 0 <= CO2t <= 1000\n",
      " 0 <= CO2t_reverse_7c42f <= 1000\n",
      " 0 <= CS <= 1000\n",
      " CS_reverse_8d7e9 = 0\n",
      " 0 <= CYTBD <= 1000\n",
      " CYTBD_reverse_611ba = 0\n",
      " 0 <= D_LACt2 <= 1000\n",
      " 0 <= D_LACt2_reverse_d0dc8 <= 1000\n",
      " 0 <= ENO <= 1000\n",
      " 0 <= ENO_reverse_40eea <= 1000\n",
      " 0 <= ETOHt2r <= 1000\n",
      " 0 <= ETOHt2r_reverse_b3d52 <= 1000\n",
      " 0 <= EX_ac_e <= 1000\n",
      " EX_ac_e_reverse_0be96 = 0\n",
      " 0 <= EX_acald_e <= 1000\n",
      " EX_acald_e_reverse_c096e = 0\n",
      " 0 <= EX_akg_e <= 1000\n",
      " EX_akg_e_reverse_70d85 = 0\n",
      " 0 <= EX_co2_e <= 1000\n",
      " 0 <= EX_co2_e_reverse_d0466 <= 1000\n",
      " 0 <= EX_etoh_e <= 1000\n",
      " EX_etoh_e_reverse_cc64f = 0\n",
      " 0 <= EX_for_e <= 1000\n",
      " EX_for_e_reverse_23269 = 0\n",
      " 0 <= EX_fru_e <= 1000\n",
      " EX_fru_e_reverse_c3828 = 0\n",
      " 0 <= EX_fum_e <= 1000\n",
      " EX_fum_e_reverse_e3432 = 0\n",
      " 0 <= EX_glc__D_e <= 1000\n",
      " 0 <= EX_glc__D_e_reverse_af641 <= 10\n",
      " 0 <= EX_gln__L_e <= 1000\n",
      " EX_gln__L_e_reverse_6a1a1 = 0\n",
      " 0 <= EX_glu__L_e <= 1000\n",
      " EX_glu__L_e_reverse_42f6c = 0\n",
      " 0 <= EX_h_e <= 1000\n",
      " 0 <= EX_h_e_reverse_3e0c5 <= 1000\n",
      " 0 <= EX_h2o_e <= 1000\n",
      " 0 <= EX_h2o_e_reverse_3ced4 <= 1000\n",
      " 0 <= EX_lac__D_e <= 1000\n",
      " EX_lac__D_e_reverse_f95b4 = 0\n",
      " 0 <= EX_mal__L_e <= 1000\n",
      " EX_mal__L_e_reverse_af154 = 0\n",
      " 0 <= EX_nh4_e <= 1000\n",
      " 0 <= EX_nh4_e_reverse_f9cc6 <= 1000\n",
      " 0 <= EX_o2_e <= 1000\n",
      " 0 <= EX_o2_e_reverse_efa94 <= 1000\n",
      " 0 <= EX_pi_e <= 1000\n",
      " 0 <= EX_pi_e_reverse_1fb09 <= 1000\n",
      " 0 <= EX_pyr_e <= 1000\n",
      " EX_pyr_e_reverse_1f6de = 0\n",
      " 0 <= EX_succ_e <= 1000\n",
      " EX_succ_e_reverse_a9039 = 0\n",
      " 0 <= FBA <= 1000\n",
      " 0 <= FBA_reverse_84806 <= 1000\n",
      " 0 <= FBP <= 1000\n",
      " FBP_reverse_bf2c9 = 0\n",
      " 0 <= FORt2 <= 1000\n",
      " FORt2_reverse_89839 = 0\n",
      " 0 <= FORti <= 1000\n",
      " FORti_reverse_18c06 = 0\n",
      " 0 <= FRD7 <= 1000\n",
      " FRD7_reverse_e0172 = 0\n",
      " 0 <= FRUpts2 <= 1000\n",
      " FRUpts2_reverse_58d3a = 0\n",
      " 0 <= FUM <= 1000\n",
      " 0 <= FUM_reverse_d3642 <= 1000\n",
      " 0 <= FUMt2_2 <= 1000\n",
      " FUMt2_2_reverse_7b4b6 = 0\n",
      " 0 <= G6PDH2r <= 1000\n",
      " 0 <= G6PDH2r_reverse_19ddf <= 1000\n",
      " 0 <= GAPD <= 1000\n",
      " 0 <= GAPD_reverse_459c1 <= 1000\n",
      " 0 <= GLCpts <= 1000\n",
      " GLCpts_reverse_a52ae = 0\n",
      " 0 <= GLNS <= 1000\n",
      " GLNS_reverse_59581 = 0\n",
      " 0 <= GLNabc <= 1000\n",
      " GLNabc_reverse_1d82a = 0\n",
      " 0 <= GLUDy <= 1000\n",
      " 0 <= GLUDy_reverse_fa4e7 <= 1000\n",
      " 0 <= GLUN <= 1000\n",
      " GLUN_reverse_4ccdb = 0\n",
      " 0 <= GLUSy <= 1000\n",
      " GLUSy_reverse_6a00f = 0\n",
      " 0 <= GLUt2r <= 1000\n",
      " 0 <= GLUt2r_reverse_3e88a <= 1000\n",
      " 0 <= GND <= 1000\n",
      " GND_reverse_eec5c = 0\n",
      " 0 <= H2Ot <= 1000\n",
      " 0 <= H2Ot_reverse_aa560 <= 1000\n",
      " 0 <= ICDHyr <= 1000\n",
      " 0 <= ICDHyr_reverse_7f84b <= 1000\n",
      " 0 <= ICL <= 1000\n",
      " ICL_reverse_2f27e = 0\n",
      " 0 <= LDH_D <= 1000\n",
      " 0 <= LDH_D_reverse_f8507 <= 1000\n",
      " 0 <= MALS <= 1000\n",
      " MALS_reverse_d7382 = 0\n",
      " 0 <= MALt2_2 <= 1000\n",
      " MALt2_2_reverse_a635f = 0\n",
      " 0 <= MDH <= 1000\n",
      " 0 <= MDH_reverse_ee52c <= 1000\n",
      " 0 <= ME1 <= 1000\n",
      " ME1_reverse_9736c = 0\n",
      " 0 <= ME2 <= 1000\n",
      " ME2_reverse_2b0a2 = 0\n",
      " 0 <= NADH16 <= 1000\n",
      " NADH16_reverse_330a2 = 0\n",
      " 0 <= NADTRHD <= 1000\n",
      " NADTRHD_reverse_49725 = 0\n",
      " 0 <= NH4t <= 1000\n",
      " 0 <= NH4t_reverse_551ee <= 1000\n",
      " 0 <= O2t <= 1000\n",
      " 0 <= O2t_reverse_4d957 <= 1000\n",
      " 0 <= PDH <= 1000\n",
      " PDH_reverse_ca160 = 0\n",
      " 0 <= PFK <= 1000\n",
      " PFK_reverse_d24a6 = 0\n",
      " 0 <= PFL <= 1000\n",
      " PFL_reverse_af9ec = 0\n",
      " 0 <= PGI <= 1000\n",
      " 0 <= PGI_reverse_27efc <= 1000\n",
      " 0 <= PGK <= 1000\n",
      " 0 <= PGK_reverse_02696 <= 1000\n",
      " 0 <= PGL <= 1000\n",
      " PGL_reverse_2bb6b = 0\n",
      " 0 <= PGM <= 1000\n",
      " 0 <= PGM_reverse_fc9af <= 1000\n",
      " 0 <= PIt2r <= 1000\n",
      " 0 <= PIt2r_reverse_1cd61 <= 1000\n",
      " 0 <= PPC <= 1000\n",
      " PPC_reverse_e854a = 0\n",
      " 0 <= PPCK <= 1000\n",
      " PPCK_reverse_2557d = 0\n",
      " 0 <= PPS <= 1000\n",
      " PPS_reverse_1c319 = 0\n",
      " 0 <= PTAr <= 1000\n",
      " 0 <= PTAr_reverse_fce15 <= 1000\n",
      " 0 <= PYK <= 1000\n",
      " PYK_reverse_bc8ff = 0\n",
      " 0 <= PYRt2 <= 1000\n",
      " 0 <= PYRt2_reverse_a6e24 <= 1000\n",
      " 0 <= RPE <= 1000\n",
      " 0 <= RPE_reverse_a1b04 <= 1000\n",
      " 0 <= RPI <= 1000\n",
      " 0 <= RPI_reverse_853a1 <= 1000\n",
      " 0 <= SUCCt2_2 <= 1000\n",
      " SUCCt2_2_reverse_206ca = 0\n",
      " 0 <= SUCCt3 <= 1000\n",
      " SUCCt3_reverse_7d82a = 0\n",
      " 0 <= SUCDi <= 1000\n",
      " SUCDi_reverse_480f4 = 0\n",
      " 0 <= SUCOAS <= 1000\n",
      " 0 <= SUCOAS_reverse_22958 <= 1000\n",
      " 0 <= TALA <= 1000\n",
      " 0 <= TALA_reverse_adfda <= 1000\n",
      " 0 <= THD2 <= 1000\n",
      " THD2_reverse_f65dd = 0\n",
      " 0 <= TKT1 <= 1000\n",
      " 0 <= TKT1_reverse_a1021 <= 1000\n",
      " 0 <= TKT2 <= 1000\n",
      " 0 <= TKT2_reverse_7ebc7 <= 1000\n",
      " 0 <= TPI <= 1000\n",
      " 0 <= TPI_reverse_c2c3b <= 1000\n",
      "\n",
      "End\n",
      "\n"
     ]
    }
   ],
   "source": [
    "solution = model.optimize()\n",
    "model.slim_optimize() #计算更快，只返回目标值\n",
    "model.objective.value\n",
    "solution.fluxes['FBA']\n",
    "model.summary() #给出输入输出通量\n",
    "model.metabolites.nadh_c.summary() #该代谢物相关通量"
   ]
  },
  {
   "cell_type": "markdown",
   "metadata": {},
   "source": [
    "## CPLEX求解器"
   ]
  },
  {
   "cell_type": "markdown",
   "metadata": {},
   "source": [
    "缺省求解器为glpk,但其性能不如cplex且不支持复杂约束条件，\n",
    "从[IBM网站](https://www.ibm.com/analytics/data-science/prescriptive-analytics/cplex-optimizer)下载学术版CPLEX Optimization Studio并安装\n",
    "!conda install -c IBMDecisionOptimization docplex cplex\n",
    "可求解非线性约束，复杂目标函数如 **min** $\\frac{1}{2}\\left(x^2 + y^2 \\right) - y$只能通过cplex求解，公式采用latex[语法](http://data-blog.udacity.com/posts/2016/10/latex-primer/)。"
   ]
  },
  {
   "cell_type": "code",
   "execution_count": null,
   "metadata": {
    "collapsed": true
   },
   "outputs": [],
   "source": [
    "import cplex\n",
    "model.solver = 'cplex'\n",
    "#model.solver = 'glpk' #glpk只支持线性目标，因此对复杂目标函数需cplex求解器\n",
    "quadratic_objective = model.problem.Objective(\n",
    "    0.5 * model.reactions.NH4t.flux_expression**2 + 0.5 *\n",
    "    model.reactions.FBA.flux_expression**2 -\n",
    "    model.reactions.FBA.flux_expression,\n",
    "    direction='min')\n",
    "#model.objective = quadratic_objective\n",
    "solution = model.optimize()"
   ]
  },
  {
   "cell_type": "markdown",
   "metadata": {},
   "source": [
    "模型优化计算结果输出"
   ]
  },
  {
   "cell_type": "code",
   "execution_count": null,
   "metadata": {
    "collapsed": true
   },
   "outputs": [],
   "source": [
    "print(solution.fluxes.BIOMASS_Ec_iJO1366_core_53p95M)\n",
    "#输出到一个dataframe进行处理\n",
    "solution_frame = solution.to_frame()\n",
    "solution_frame[solution_frame.fluxes.abs() > 1e-4]\n",
    "#model.solver.variables.difference.primal #需要检验"
   ]
  },
  {
   "cell_type": "markdown",
   "metadata": {},
   "source": [
    "loopless FBA。"
   ]
  },
  {
   "cell_type": "code",
   "execution_count": null,
   "metadata": {
    "collapsed": true
   },
   "outputs": [],
   "source": [
    "%matplotlib inline\n",
    "import plot_helper\n",
    "import pandas\n",
    "from cobra.flux_analysis.loopless import add_loopless, loopless_solution\n",
    "from cobra.flux_analysis import pfba\n",
    "nominal = model.optimize()\n",
    "loopless = loopless_solution(model)\n",
    "df = pandas.DataFrame(dict(loopless=loopless.fluxes, nominal=nominal.fluxes))\n",
    "df.plot.scatter(x='loopless', y='nominal')"
   ]
  },
  {
   "cell_type": "markdown",
   "metadata": {},
   "source": [
    "PFBA使通量和最小，Parsimonious，minimize the total sum of absolute flux values\n",
    "需要核对一下PFBA的通量和是否是针对碳通量的，只有碳通量和（针对碳原子数给权重）才有意义，另外酶子集合并，长短途径也可能对结果有影响，应该修正？\n",
    "FBA的结果应针对碳原子数修正，才能得到真正的碳流分布，实现算法，反应的碳权重是所有反应物或所有产物的碳原子个数之和，而不是针对某一特定底物，可以推广到一元素流网络，特别是碳氮磷硫流。"
   ]
  },
  {
   "cell_type": "code",
   "execution_count": null,
   "metadata": {
    "collapsed": true
   },
   "outputs": [],
   "source": [
    "from cobra.flux_analysis import pfba\n",
    "pfba_solution = pfba(model) #PFBA使通量和最小\n",
    "pfba_solution = pfba(model, fraction_of_optimum=0.95) #可计算通量值为最优值的0.95倍范围时的通量和最小解\n",
    "print(pfba_solution.fluxes.abs().sum())"
   ]
  },
  {
   "cell_type": "markdown",
   "metadata": {},
   "source": [
    "## FVA"
   ]
  },
  {
   "cell_type": "code",
   "execution_count": null,
   "metadata": {
    "collapsed": true
   },
   "outputs": [],
   "source": [
    "from cobra.flux_analysis import flux_variability_analysis\n",
    "a=flux_variability_analysis(model)\n",
    "abs_flux_ranges = abs(a.maximum - a.minimum).to_dict()\n",
    "a=flux_variability_analysis(model, loopless=True) #去掉无效循环\n",
    "a=flux_variability_analysis(core_model, fraction_of_optimum=0.9, pfba_factor=1.1, loopless=True)\n",
    "#fraction_of_optimum设定最优速率不小于该值，pfba_factor设定总通量和不高于最小通量和的倍数（过高通量实际不可能）"
   ]
  },
  {
   "cell_type": "code",
   "execution_count": null,
   "metadata": {
    "collapsed": true
   },
   "outputs": [],
   "source": [
    "flux_variability_analysis(model, model.reactions[:10])\n",
    "flux_variability_analysis(model, model.reactions[:10], fraction_of_optimum=0.9) #90%最优值\n",
    "loop_reactions = [model.reactions.FRD7, model.reactions.SUCDi]\n",
    "flux_variability_analysis(model, reaction_list=loop_reactions, loopless=True)\n",
    "#对FVA可应用 loopless=True 参数使得到最大最小值更合理，但需人为给定loop反应\n",
    "model.summary(fva=0.95) #FVA时的输入输出通量"
   ]
  },
  {
   "cell_type": "markdown",
   "metadata": {},
   "source": [
    "## 敲除分析"
   ]
  },
  {
   "cell_type": "markdown",
   "metadata": {},
   "source": [
    "应用with model功能, 可以循环敲除或修改某一反应的边界条件，每次修改计算后该敲除或条件改变操作会自动恢复以进行下一次计算"
   ]
  },
  {
   "cell_type": "code",
   "execution_count": null,
   "metadata": {
    "collapsed": true
   },
   "outputs": [],
   "source": [
    "model = cobra.test.create_test_model('textbook')\n",
    "with model:\n",
    "    for reaction in model.reactions:\n",
    "        reaction.knock_out()\n",
    "        model.optimize()\n",
    "        print('%s blocked (bounds: %s), new growth rate %f' %\n",
    "              (reaction.id, str(reaction.bounds), model.objective.value))\n",
    "    for gene in model.genes[:5]:\n",
    "        gene.knock_out()\n",
    "        model.optimize()\n",
    "        print('%s blocked, new growth rate %f' %\n",
    "              (gene.id,  model.objective.value))\n",
    "reas=model.reactions\n",
    "with model:\n",
    "    for i in range(len(reas)):\n",
    "        reas[i].lower_bound=x[i] #根据一向量x中的值改变边界条件，x可与表达数据等相关\n",
    "        model.optimize()\n",
    "        "
   ]
  },
  {
   "cell_type": "markdown",
   "metadata": {},
   "source": [
    "Nested contexts are also supported"
   ]
  },
  {
   "cell_type": "code",
   "execution_count": null,
   "metadata": {
    "collapsed": true
   },
   "outputs": [],
   "source": [
    "print('original objective: ', model.objective.expression)\n",
    "with model:\n",
    "    model.objective = 'ATPM'\n",
    "    print('print objective in first context:', model.objective.expression)\n",
    "    with model:\n",
    "        model.objective = 'ACALD'\n",
    "        print('print objective in second context:', model.objective.expression)\n",
    "    print('objective after exiting second context:',\n",
    "          model.objective.expression)\n",
    "print('back to original objective:', model.objective.expression)"
   ]
  },
  {
   "cell_type": "markdown",
   "metadata": {},
   "source": [
    "更简单的敲除计算"
   ]
  },
  {
   "cell_type": "code",
   "execution_count": null,
   "metadata": {
    "collapsed": true
   },
   "outputs": [],
   "source": [
    "import pandas\n",
    "from cobra.flux_analysis import (\n",
    "    single_gene_deletion, single_reaction_deletion, double_gene_deletion,\n",
    "    double_reaction_deletion)\n",
    "deletion_results = single_gene_deletion(model)\n",
    "#下面语句给出必须基因列表（敲除后通量小于一阈值或无最优解\n",
    "set(gene_deletions[(deletion_results.flux < 0.01) | (deletion_results.status != 'optimal')].index)\n",
    "#也可使用下面更简单语句\n",
    "from cobra.flux_analysis import find_essential_genes,find_essential_reactions\n",
    "find_essential_genes(model,threshold=0.01)\n",
    "\n",
    "#rdeletion_results = single_reaction_deletion(model, model.reactions[:20]) #对反应敲除类似"
   ]
  },
  {
   "cell_type": "markdown",
   "metadata": {},
   "source": [
    "双基因敲除"
   ]
  },
  {
   "cell_type": "code",
   "execution_count": null,
   "metadata": {},
   "outputs": [],
   "source": [
    "double_gene_deletion(model, model.genes[-5:], return_frame=True, number_of_processes=2).round(4)\n",
    "#return_frame=True will cause them to format the results as a pandas.DataFrame,现在return_frame和number_of_processes两个参数不识别\n",
    "#number_of_processes 确定用几个核心计算，缺省值为4"
   ]
  },
  {
   "cell_type": "markdown",
   "metadata": {},
   "source": [
    "## MOMA, 敲除后使通量变化最小"
   ]
  },
  {
   "cell_type": "code",
   "execution_count": null,
   "metadata": {},
   "outputs": [],
   "source": [
    "deletion_results = single_gene_deletion(model,method='linear moma')\n",
    "#method可选{\"fba\", \"moma\", \"linear moma\"}"
   ]
  },
  {
   "cell_type": "markdown",
   "metadata": {},
   "source": [
    "## 改变培养基组成计算"
   ]
  },
  {
   "cell_type": "code",
   "execution_count": null,
   "metadata": {},
   "outputs": [],
   "source": [
    "medium = model.medium #改变培养基组成计算\n",
    "with model:\n",
    "    medium['EX_glc__D_e'] = 0 #葡萄糖换成琥珀酸，应根据碳原子个数修改使碳输入通量相同以比较\n",
    "    medium['EX_succ_e'] = 10\n",
    "    model.medium = medium\n",
    "    solution = model.optimize()\n",
    "    print(solution.fluxes['BIOMASS_Ecoli_core_w_GAM'])        "
   ]
  },
  {
   "cell_type": "markdown",
   "metadata": {},
   "source": [
    "## 表型相平面分析"
   ]
  },
  {
   "cell_type": "markdown",
   "metadata": {},
   "source": [
    "分析两个不同输入（糖和氧）下最优速率的变化，需要看一下是将输入固定在该值还是固定上限？\n",
    "还可以分析产物生成和生长间的关系"
   ]
  },
  {
   "cell_type": "code",
   "execution_count": null,
   "metadata": {
    "collapsed": true
   },
   "outputs": [],
   "source": [
    "from cobra.flux_analysis import production_envelope\n",
    "model = cobra.test.create_test_model(\"textbook\")\n",
    "prod_env = production_envelope(model, [\"EX_glc__D_e\", \"EX_o2_e\"])\n",
    "#给出carbon_sources参数时同时计算产物得率\n",
    "#prod_env = production_envelope(model, [\"EX_o2_e\"], objective=\"EX_ac_e\", carbon_sources=\"EX_glc__D_e\") \n",
    "res=prod_env.head() #获得分析结果\n",
    "%matplotlib inline #前面加%以在下面输出图像\n",
    "prod_env.plot(kind='line', x='EX_o2_e', y='carbon_yield_maximum');"
   ]
  },
  {
   "cell_type": "code",
   "execution_count": null,
   "metadata": {},
   "outputs": [],
   "source": [
    "prod_env = production_envelope(model, reactions=model.reactions.BIOMASS_Ec_iJO1366_core_53p95M, \n",
    "                               objective=model.reactions.EX_ac_e)\n",
    "#下面语句给出类似产物和生长偶联关系的曲线图\n",
    "prod_env[prod_env.direction == 'maximum'].plot(kind='line', x='BIOMASS_Ec_iJO1366_core_53p95M', y='carbon_yield')"
   ]
  },
  {
   "cell_type": "markdown",
   "metadata": {},
   "source": [
    "## Flux Samplling"
   ]
  },
  {
   "cell_type": "markdown",
   "metadata": {},
   "source": [
    "通量空间样本随机取样，均满足约束条件"
   ]
  },
  {
   "cell_type": "code",
   "execution_count": null,
   "metadata": {
    "collapsed": true
   },
   "outputs": [],
   "source": [
    "from cobra.flux_analysis import sample\n",
    "#model = cobra.test.create_test_model(\"textbook\")\n",
    "s = sample(model, 100)\n",
    "s.head()\n",
    "%time s = sample(model, 1000, processes=2) #两核心并行计算，缺省为单核\n",
    "s = sample(model, 100, method=\"achr\") #Hit-and-Run for sampling\n"
   ]
  }
 ],
 "metadata": {
  "kernelspec": {
   "display_name": "Python 3",
   "language": "python",
   "name": "python3"
  },
  "language_info": {
   "codemirror_mode": {
    "name": "ipython",
    "version": 3
   },
   "file_extension": ".py",
   "mimetype": "text/x-python",
   "name": "python",
   "nbconvert_exporter": "python",
   "pygments_lexer": "ipython3",
   "version": "3.6.4"
  }
 },
 "nbformat": 4,
 "nbformat_minor": 1
}
